{
 "cells": [
  {
   "cell_type": "code",
   "execution_count": 3,
   "metadata": {},
   "outputs": [],
   "source": [
    "import numpy as np\n",
    "import pyxdf\n",
    "import pandas as pd\n",
    "import mne\n",
    "import mne_connectivity\n",
    "import matplotlib\n",
    "import matplotlib.pyplot as plt\n",
    "\n",
    "from scipy.signal import sosfiltfilt, butter, hilbert\n",
    "from scipy import io\n",
    "from scipy.stats import pearsonr\n",
    "from scipy.io import loadmat\n",
    "\n",
    "from pingouin import circ_corrcl\n",
    "\n",
    "import seaborn as sns\n",
    "\n",
    "import neurodsp\n",
    "from neurodsp import spectral\n",
    "from neurodsp import filt\n",
    "from neurodsp import sim\n",
    "\n",
    "import fooof\n",
    "from fooof import FOOOF\n",
    "from fooof import FOOOFGroup\n",
    "#from fooof.plts.templates import plot_spectrum\n",
    "from sklearn.decomposition import PCA\n",
    "from mne.datasets import eegbci, fetch_fsaverage\n",
    "import os.path as op\n",
    "import ipywidgets\n",
    "from ipywidgets import Image\n",
    "import pyvistaqt\n",
    "import nibabel\n",
    "import trame\n",
    "import vtk\n",
    "import vtkmodules\n"
   ]
  },
  {
   "cell_type": "code",
   "execution_count": 4,
   "metadata": {},
   "outputs": [
    {
     "name": "stdout",
     "output_type": "stream",
     "text": [
      "0 files missing from root.txt in C:\\Users\\jaket\\mne_data\\MNE-fsaverage-data\n",
      "0 files missing from bem.txt in C:\\Users\\jaket\\mne_data\\MNE-fsaverage-data\\fsaverage\n"
     ]
    }
   ],
   "source": [
    "\n",
    "# Download fsaverage files\n",
    "fs_dir = fetch_fsaverage(verbose=True)\n",
    "subjects_dir = op.dirname(fs_dir)\n",
    "\n",
    "# The files live in:\n",
    "subject = \"fsaverage\"\n",
    "trans = \"fsaverage\"  # MNE has a built-in fsaverage transformation\n",
    "src = op.join(fs_dir, \"bem\", \"fsaverage-ico-5-src.fif\")\n",
    "bem = op.join(fs_dir, \"bem\", \"fsaverage-5120-5120-5120-bem-sol.fif\")"
   ]
  },
  {
   "cell_type": "code",
   "execution_count": 5,
   "metadata": {},
   "outputs": [
    {
     "name": "stdout",
     "output_type": "stream",
     "text": [
      "Not setting metadata\n",
      "10 matching events found\n",
      "No baseline correction applied\n",
      "0 projection items activated\n",
      "EEG channel type selected for re-referencing\n",
      "Adding average EEG reference projection.\n",
      "1 projection items deactivated\n",
      "Average reference projection was added, but has not been applied yet. Use the apply_proj method to apply it.\n"
     ]
    },
    {
     "data": {
      "text/html": [
       "<table class=\"table table-hover table-striped table-sm table-responsive small\">\n",
       "    <tr>\n",
       "        <th>Number of events</th>\n",
       "        <td>10</td>\n",
       "    </tr>\n",
       "    <tr>\n",
       "        <th>Events</th>\n",
       "        \n",
       "        <td>1: 10</td>\n",
       "        \n",
       "    </tr>\n",
       "    <tr>\n",
       "        <th>Time range</th>\n",
       "        <td>0.000 – 1.289 s</td>\n",
       "    </tr>\n",
       "    <tr>\n",
       "        <th>Baseline</th>\n",
       "        <td>off</td>\n",
       "    </tr>\n",
       "</table>"
      ],
      "text/plain": [
       "<EpochsArray |  10 events (all good), 0 – 1.28906 s, baseline off, ~923 kB, data loaded,\n",
       " '1': 10>"
      ]
     },
     "execution_count": 5,
     "metadata": {},
     "output_type": "execute_result"
    }
   ],
   "source": [
    "data = np.load(r'C:\\Users\\jaket\\COGS280\\DataDeco\\eeg.npy')\n",
    "\n",
    "data1 = data[0:10,:,:]  #just the first 10 trials and make them epochs, next cell will make evoked data\n",
    "\n",
    "channel_names = mne.channels.make_standard_montage('biosemi64').ch_names\n",
    "channel_locs = mne.channels.make_standard_montage('biosemi64').get_positions()['ch_pos']\n",
    "\n",
    "info = mne.create_info(channel_names, sfreq=128, ch_types='eeg')  # Adjust accordingly\n",
    "#raw = mne.io.RawArray(data1, info, verbose = False)\n",
    "epochs = mne.EpochsArray(data1, info)\n",
    "\n",
    "# Set montage if known\n",
    "montage = mne.channels.make_standard_montage('biosemi64')\n",
    "epochs.set_montage(montage)\n",
    "\n",
    "epochs.set_eeg_reference(projection=True)  # needed for inverse modeling\n"
   ]
  },
  {
   "cell_type": "code",
   "execution_count": 6,
   "metadata": {},
   "outputs": [
    {
     "name": "stdout",
     "output_type": "stream",
     "text": [
      "-0.5211273451351086\n"
     ]
    }
   ],
   "source": [
    "print(data[0,0,0])"
   ]
  },
  {
   "cell_type": "code",
   "execution_count": 7,
   "metadata": {},
   "outputs": [
    {
     "name": "stdout",
     "output_type": "stream",
     "text": [
      "Source space          : C:\\Users\\jaket\\mne_data\\MNE-fsaverage-data\\fsaverage\\bem\\fsaverage-ico-5-src.fif\n",
      "MRI -> head transform : C:\\Users\\jaket\\AppData\\Roaming\\Python\\Python39\\site-packages\\mne\\data\\fsaverage\\fsaverage-trans.fif\n",
      "Measurement data      : instance of Info\n",
      "Conductor model   : C:\\Users\\jaket\\mne_data\\MNE-fsaverage-data\\fsaverage\\bem\\fsaverage-5120-5120-5120-bem-sol.fif\n",
      "Accurate field computations\n",
      "Do computations in head coordinates\n",
      "Free source orientations\n",
      "\n",
      "Reading C:\\Users\\jaket\\mne_data\\MNE-fsaverage-data\\fsaverage\\bem\\fsaverage-ico-5-src.fif...\n",
      "Read 2 source spaces a total of 20484 active source locations\n",
      "\n",
      "Coordinate transformation: MRI (surface RAS) -> head\n",
      "     0.999994  0.003552  0.000202      -1.76 mm\n",
      "    -0.003558  0.998389  0.056626      31.09 mm\n",
      "    -0.000001 -0.056626  0.998395      39.60 mm\n",
      "     0.000000  0.000000  0.000000       1.00\n",
      "\n",
      "Read  64 EEG channels from info\n",
      "Head coordinate coil definitions created.\n",
      "Source spaces are now in head coordinates.\n",
      "\n",
      "Setting up the BEM model using C:\\Users\\jaket\\mne_data\\MNE-fsaverage-data\\fsaverage\\bem\\fsaverage-5120-5120-5120-bem-sol.fif...\n",
      "\n",
      "Loading surfaces...\n",
      "\n",
      "Loading the solution matrix...\n",
      "\n",
      "Three-layer model surfaces loaded.\n",
      "Loaded linear collocation BEM solution from C:\\Users\\jaket\\mne_data\\MNE-fsaverage-data\\fsaverage\\bem\\fsaverage-5120-5120-5120-bem-sol.fif\n",
      "Employing the head->MRI coordinate transform with the BEM model.\n",
      "BEM model fsaverage-5120-5120-5120-bem-sol.fif is now set up\n",
      "\n",
      "Source spaces are in head coordinates.\n",
      "Checking that the sources are inside the surface and at least    5.0 mm away (will take a few...)\n",
      "Checking surface interior status for 10242 points...\n",
      "    Found  2433/10242 points inside  an interior sphere of radius   47.7 mm\n",
      "    Found     0/10242 points outside an exterior sphere of radius   98.3 mm\n",
      "    Found     0/ 7809 points outside using surface Qhull\n"
     ]
    },
    {
     "name": "stderr",
     "output_type": "stream",
     "text": [
      "[Parallel(n_jobs=1)]: Using backend SequentialBackend with 1 concurrent workers.\n"
     ]
    },
    {
     "name": "stdout",
     "output_type": "stream",
     "text": [
      "    Found     0/ 7809 points outside using solid angles\n",
      "    Total 10242/10242 points inside the surface\n",
      "Interior check completed in 17047.2 ms\n",
      "Checking surface interior status for 10242 points...\n",
      "    Found  2241/10242 points inside  an interior sphere of radius   47.7 mm\n",
      "    Found     0/10242 points outside an exterior sphere of radius   98.3 mm\n",
      "    Found     0/ 8001 points outside using surface Qhull\n"
     ]
    },
    {
     "name": "stderr",
     "output_type": "stream",
     "text": [
      "[Parallel(n_jobs=1)]: Done   1 out of   1 | elapsed:   16.8s remaining:    0.0s\n",
      "[Parallel(n_jobs=1)]: Done   1 out of   1 | elapsed:   16.8s finished\n",
      "[Parallel(n_jobs=1)]: Using backend SequentialBackend with 1 concurrent workers.\n"
     ]
    },
    {
     "name": "stdout",
     "output_type": "stream",
     "text": [
      "    Found     0/ 8001 points outside using solid angles\n",
      "    Total 10242/10242 points inside the surface\n",
      "Interior check completed in 15249.3 ms\n",
      "\n"
     ]
    },
    {
     "name": "stderr",
     "output_type": "stream",
     "text": [
      "[Parallel(n_jobs=1)]: Done   1 out of   1 | elapsed:   15.1s remaining:    0.0s\n",
      "[Parallel(n_jobs=1)]: Done   1 out of   1 | elapsed:   15.1s finished\n"
     ]
    },
    {
     "name": "stdout",
     "output_type": "stream",
     "text": [
      "Setting up for EEG...\n",
      "Computing EEG at 20484 source locations (free orientations)...\n"
     ]
    },
    {
     "name": "stderr",
     "output_type": "stream",
     "text": [
      "[Parallel(n_jobs=1)]: Using backend SequentialBackend with 1 concurrent workers.\n"
     ]
    },
    {
     "name": "stdout",
     "output_type": "stream",
     "text": [
      "\n",
      "Finished.\n"
     ]
    },
    {
     "name": "stderr",
     "output_type": "stream",
     "text": [
      "[Parallel(n_jobs=1)]: Done   1 out of   1 | elapsed:   23.7s remaining:    0.0s\n",
      "[Parallel(n_jobs=1)]: Done   1 out of   1 | elapsed:   23.7s finished\n"
     ]
    },
    {
     "name": "stdout",
     "output_type": "stream",
     "text": [
      "<Forward | MEG channels: 0 | EEG channels: 64 | Source space: Surface with 20484 vertices | Source orientation: Free>\n"
     ]
    }
   ],
   "source": [
    "fwd = mne.make_forward_solution(\n",
    "    epochs.info, trans=trans, src=src, bem=bem, eeg=True, mindist=5.0\n",
    ")\n",
    "print(fwd)"
   ]
  },
  {
   "cell_type": "code",
   "execution_count": 8,
   "metadata": {},
   "outputs": [
    {
     "name": "stdout",
     "output_type": "stream",
     "text": [
      "Computing rank from data with rank=None\n"
     ]
    },
    {
     "name": "stderr",
     "output_type": "stream",
     "text": [
      "C:\\Users\\jaket\\AppData\\Local\\Temp\\ipykernel_9396\\3490624686.py:4: RuntimeWarning: Epochs are not baseline corrected, covariance matrix may be inaccurate\n",
      "  cov = compute_covariance(epochs, tmin=0.5)\n"
     ]
    },
    {
     "name": "stdout",
     "output_type": "stream",
     "text": [
      "    Using tolerance 5.1e-06 (2.2e-16 eps * 64 dim * 3.6e+08  max singular value)\n",
      "    Estimated rank (eeg): 63\n",
      "    EEG: rank 63 computed from 64 data channels with 1 projector\n",
      "    Created an SSP operator (subspace dimension = 1)\n",
      "    Setting small EEG eigenvalues to zero (without PCA)\n",
      "Reducing data rank from 64 -> 63\n",
      "Estimating covariance using EMPIRICAL\n",
      "Done.\n",
      "Number of samples used : 1020\n",
      "[done]\n",
      "Converting forward solution to surface orientation\n",
      "    No patch info available. The standard source space normals will be employed in the rotation to the local surface coordinates....\n",
      "    Converting to surface-based source orientations...\n",
      "    [done]\n",
      "Computing inverse operator with 64 channels.\n",
      "    64 out of 64 channels remain after picking\n",
      "Selected 64 channels\n",
      "Creating the depth weighting matrix...\n",
      "    64 EEG channels\n",
      "    limit = 20485/20484 = 2.329337\n",
      "    scale = 108975 exp = 0.8\n",
      "Applying loose dipole orientations to surface source spaces: 0.2\n",
      "Whitening the forward solution.\n",
      "    Created an SSP operator (subspace dimension = 1)\n",
      "Computing rank from covariance with rank=None\n",
      "    Using tolerance 0.018 (2.2e-16 eps * 64 dim * 1.2e+12  max singular value)\n",
      "    Estimated rank (eeg): 62\n",
      "    EEG: rank 62 computed from 64 data channels with 1 projector\n",
      "    Setting small EEG eigenvalues to zero (without PCA)\n",
      "Creating the source covariance matrix\n",
      "Adjusting source covariance matrix.\n",
      "Computing SVD of whitened and weighted lead field matrix.\n",
      "    largest singular value = 4.43726\n",
      "    scaling factor to adjust the trace = 1.37842e+09 (nchan = 64 nzero = 2)\n"
     ]
    }
   ],
   "source": [
    "from mne import compute_covariance\n",
    "\n",
    "# Assuming you have an 'epochs' object\n",
    "cov = compute_covariance(epochs, tmin=0.5)\n",
    "\n",
    "from mne.minimum_norm import make_inverse_operator\n",
    "\n",
    "inverse_operator = make_inverse_operator(epochs.info, fwd, cov, loose=0.2, depth=0.8)"
   ]
  },
  {
   "cell_type": "code",
   "execution_count": 9,
   "metadata": {},
   "outputs": [
    {
     "name": "stdout",
     "output_type": "stream",
     "text": [
      "Preparing the inverse operator for use...\n",
      "    Scaled noise and source covariance from nave = 1 to nave = 10\n",
      "    Created the regularized inverter\n",
      "    Created an SSP operator (subspace dimension = 1)\n",
      "    Created the whitener using a noise covariance matrix with rank 62 (2 small eigenvalues omitted)\n",
      "    Computing noise-normalization factors (dSPM)...\n",
      "[done]\n",
      "Applying inverse operator to \"1\"...\n",
      "    Picked 64 channels from the data\n",
      "    Computing inverse...\n",
      "    Eigenleads need to be weighted ...\n",
      "    Computing residual...\n",
      "    Explained  83.6% variance\n",
      "    Combining the current components...\n",
      "    dSPM...\n",
      "[done]\n",
      "Using pyvistaqt 3d backend.\n",
      "\n",
      "For automatic theme detection, \"darkdetect\" has to be installed! You can install it with `pip install darkdetect`\n",
      "For automatic theme detection, \"darkdetect\" has to be installed! You can install it with `pip install darkdetect`\n",
      "For automatic theme detection, \"darkdetect\" has to be installed! You can install it with `pip install darkdetect`\n",
      "For automatic theme detection, \"darkdetect\" has to be installed! You can install it with `pip install darkdetect`\n"
     ]
    }
   ],
   "source": [
    "import pyvistaqt\n",
    "\n",
    "# Average the epochs to create evoked data\n",
    "evoked = epochs.average()\n",
    "\n",
    "# Apply the inverse operator to the evoked data\n",
    "from mne.minimum_norm import apply_inverse\n",
    "\n",
    "# Regularization parameter\n",
    "lambda2 = 1.0 / 9.0\n",
    "\n",
    "# Method for source estimation, e.g., dSPM, sLORETA\n",
    "method = 'dSPM'\n",
    "\n",
    "stc = apply_inverse(evoked, inverse_operator, lambda2, method=method, pick_ori=None)\n",
    "\n",
    "brain = stc.plot(\n",
    "    hemi='both', subjects_dir=subjects_dir, subject=subject,\n",
    "    initial_time=0, clim=dict(kind='value', lims=[0.3, 0.6, 0.9]))"
   ]
  },
  {
   "cell_type": "code",
   "execution_count": 13,
   "metadata": {},
   "outputs": [
    {
     "name": "stdout",
     "output_type": "stream",
     "text": [
      "['standard_1005', 'standard_1020', 'standard_alphabetic', 'standard_postfixed', 'standard_prefixed', 'standard_primed', 'biosemi16', 'biosemi32', 'biosemi64', 'biosemi128', 'biosemi160', 'biosemi256', 'easycap-M1', 'easycap-M10', 'easycap-M43', 'EGI_256', 'GSN-HydroCel-32', 'GSN-HydroCel-64_1.0', 'GSN-HydroCel-65_1.0', 'GSN-HydroCel-128', 'GSN-HydroCel-129', 'GSN-HydroCel-256', 'GSN-HydroCel-257', 'mgh60', 'mgh70', 'artinis-octamon', 'artinis-brite23', 'brainproducts-RNP-BA-128']\n",
      "['Fp1', 'Fpz', 'Fp2', 'AF9', 'AF7', 'AF5', 'AF3', 'AF1', 'AFz', 'AF2', 'AF4', 'AF6', 'AF8', 'AF10', 'F9', 'F7', 'F5', 'F3', 'F1', 'Fz', 'F2', 'F4', 'F6', 'F8', 'F10', 'FT9', 'FT7', 'FC5', 'FC3', 'FC1', 'FCz', 'FC2', 'FC4', 'FC6', 'FT8', 'FT10', 'T9', 'T7', 'C5', 'C3', 'C1', 'Cz', 'C2', 'C4', 'C6', 'T8', 'T10', 'TP9', 'TP7', 'CP5', 'CP3', 'CP1', 'CPz', 'CP2', 'CP4', 'CP6', 'TP8', 'TP10', 'P9', 'P7', 'P5', 'P3', 'P1', 'Pz', 'P2', 'P4', 'P6', 'P8', 'P10', 'PO9', 'PO7', 'PO5', 'PO3', 'PO1', 'POz', 'PO2', 'PO4', 'PO6', 'PO8', 'PO10', 'O1', 'Oz', 'O2', 'O9', 'Iz', 'O10', 'T3', 'T5', 'T4', 'T6', 'M1', 'M2', 'A1', 'A2']\n",
      "['Fp1', 'Fp2', 'F3', 'F4', 'C3', 'C4', 'P3', 'P4', 'O1', 'O2', 'F7', 'F8', 'T3', 'T4', 'T5', 'T6', 'FZ', 'CZ', 'PZ']\n"
     ]
    },
    {
     "name": "stderr",
     "output_type": "stream",
     "text": [
      "C:\\Users\\jaket\\AppData\\Local\\Temp\\ipykernel_9396\\1386082838.py:9: RuntimeWarning: Data will be preloaded. preload=False or a string preload is not supported when the data is stored in the .set file\n",
      "  raw_EO = mne.io.read_raw_eeglab('MichaelEOxdf.set')\n"
     ]
    }
   ],
   "source": [
    "\n",
    "print(mne.channels.get_builtin_montages())\n",
    "  #just the first 10 trials and make them epochs, next cell will make evoked data\n",
    "\n",
    "channel_names = mne.channels.make_standard_montage('standard_1020').ch_names\n",
    "channel_locs = mne.channels.make_standard_montage('standard_1020').get_positions()['ch_pos']\n",
    "\n",
    "print(channel_names)\n",
    "\n",
    "raw_EO = mne.io.read_raw_eeglab('MichaelEOxdf.set')\n",
    "print(raw_EO.ch_names)"
   ]
  },
  {
   "cell_type": "code",
   "execution_count": 26,
   "metadata": {},
   "outputs": [
    {
     "data": {
      "text/html": [
       "<details open>\n",
       "    <summary><strong>General</strong></summary>\n",
       "    <table class=\"table table-hover table-striped table-sm table-responsive small\">\n",
       "        <tr>\n",
       "            <th>Measurement date</th>\n",
       "            \n",
       "            <td>Unknown</td>\n",
       "            \n",
       "        </tr>\n",
       "        <tr>\n",
       "            <th>Experimenter</th>\n",
       "            \n",
       "            <td>Unknown</td>\n",
       "            \n",
       "        </tr>\n",
       "        <tr>\n",
       "            <th>Participant</th>\n",
       "            \n",
       "            <td>Unknown</td>\n",
       "            \n",
       "        </tr>\n",
       "    </table>\n",
       "    </details>\n",
       "    <details open>\n",
       "        <summary><strong>Channels</strong></summary>\n",
       "        <table class=\"table table-hover table-striped table-sm table-responsive small\">\n",
       "            <tr>\n",
       "                <th>Digitized points</th>\n",
       "                \n",
       "                <td>22 points</td>\n",
       "                \n",
       "            </tr>\n",
       "            <tr>\n",
       "                <th>Good channels</th>\n",
       "                <td>19 EEG</td>\n",
       "            </tr>\n",
       "            <tr>\n",
       "                <th>Bad channels</th>\n",
       "                <td>None</td>\n",
       "            </tr>\n",
       "            <tr>\n",
       "                <th>EOG channels</th>\n",
       "                <td>Not available</td>\n",
       "            </tr>\n",
       "            <tr>\n",
       "                <th>ECG channels</th>\n",
       "                <td>Not available</td>\n",
       "            </tr>\n",
       "        </table>\n",
       "        </details>\n",
       "        <details open>\n",
       "            <summary><strong>Data</strong></summary>\n",
       "            <table class=\"table table-hover table-striped table-sm table-responsive small\">\n",
       "                \n",
       "                <tr>\n",
       "                    <th>Sampling frequency</th>\n",
       "                    <td>256.00 Hz</td>\n",
       "                </tr>\n",
       "                \n",
       "                \n",
       "                <tr>\n",
       "                    <th>Highpass</th>\n",
       "                    <td>0.00 Hz</td>\n",
       "                </tr>\n",
       "                \n",
       "                \n",
       "                <tr>\n",
       "                    <th>Lowpass</th>\n",
       "                    <td>128.00 Hz</td>\n",
       "                </tr>\n",
       "                \n",
       "                \n",
       "                \n",
       "                <tr>\n",
       "                    <th>Filenames</th>\n",
       "                    <td>MichaelEOxdf.set</td>\n",
       "                </tr>\n",
       "                \n",
       "                \n",
       "                <tr>\n",
       "                    <th>Duration</th>\n",
       "                    <td>00:01:59 (HH:MM:SS)</td>\n",
       "                </tr>\n",
       "                \n",
       "            </table>\n",
       "            </details>"
      ],
      "text/plain": [
       "<RawEEGLAB | MichaelEOxdf.set, 19 x 30390 (118.7 s), ~4.4 MB, data loaded>"
      ]
     },
     "execution_count": 26,
     "metadata": {},
     "output_type": "execute_result"
    }
   ],
   "source": [
    "# Define your subset of electrodes\n",
    "montage_1020 = mne.channels.make_standard_montage('standard_1020')\n",
    "channels_1020 = [item.lower() for item in montage_1020.ch_names]\n",
    "subset_electrodes = [item.lower() for item in raw_EO.ch_names]\n",
    "\n",
    "montage_1020.ch_names = channels_1020\n",
    "# Filter the montage for the subset\n",
    "subset_montage = montage_1020.copy()  # Copy the original montage\n",
    "\n",
    "subset_montage.ch_names = subset_electrodes  # Keep only the subset\n",
    "\n",
    "# Get the positions of all electrodes in the montage\n",
    "all_positions = montage_1020.get_positions()\n",
    "# Filter for the subset\n",
    "subset_positions = {ch: all_positions['ch_pos'][ch] for ch in subset_electrodes}\n",
    "# Update the positions to only include the subset\n",
    "\n",
    "# Create a new montage from the subset positions\n",
    "subset_montage = mne.channels.make_dig_montage(ch_pos=subset_positions, coord_frame='head')\n",
    "\n",
    "info = mne.create_info(subset_electrodes, sfreq=256, ch_types='eeg')  # Adjust accordingly\n",
    "\n",
    "raw_EO.rename_channels({ch: ch.lower() for ch in raw_EO.ch_names})\n",
    "raw_EO.set_montage(subset_montage)"
   ]
  },
  {
   "cell_type": "code",
   "execution_count": 29,
   "metadata": {},
   "outputs": [
    {
     "name": "stdout",
     "output_type": "stream",
     "text": [
      "Not setting metadata\n",
      "3 matching events found\n",
      "Setting baseline interval to [-0.1015625, 0.0] s\n",
      "Applying baseline correction (mode: mean)\n",
      "0 projection items activated\n",
      "Using data from preloaded Raw for 3 events and 104 original time points ...\n",
      "0 bad epochs dropped\n",
      "EEG channel type selected for re-referencing\n",
      "Adding average EEG reference projection.\n",
      "1 projection items deactivated\n",
      "Average reference projection was added, but has not been applied yet. Use the apply_proj method to apply it.\n",
      "Created an SSP operator (subspace dimension = 1)\n",
      "1 projection items activated\n",
      "SSP projectors applied...\n"
     ]
    },
    {
     "data": {
      "text/html": [
       "<table class=\"table table-hover table-striped table-sm table-responsive small\">\n",
       "    <tr>\n",
       "        <th>Number of events</th>\n",
       "        <td>3</td>\n",
       "    </tr>\n",
       "    <tr>\n",
       "        <th>Events</th>\n",
       "        \n",
       "        <td>Stimulus/Type1: 2<br/>Stimulus/Type2: 1</td>\n",
       "        \n",
       "    </tr>\n",
       "    <tr>\n",
       "        <th>Time range</th>\n",
       "        <td>-0.102 – 0.301 s</td>\n",
       "    </tr>\n",
       "    <tr>\n",
       "        <th>Baseline</th>\n",
       "        <td>-0.102 – 0.000 s</td>\n",
       "    </tr>\n",
       "</table>"
      ],
      "text/plain": [
       "<Epochs |  3 events (all good), -0.101562 – 0.300781 s, baseline -0.101562 – 0 s, ~80 kB, data loaded,\n",
       " 'Stimulus/Type1': 2\n",
       " 'Stimulus/Type2': 1>"
      ]
     },
     "execution_count": 29,
     "metadata": {},
     "output_type": "execute_result"
    }
   ],
   "source": [
    "# Example of manually creating an events array\n",
    "# Each event is defined as [sample index, 0, event id]\n",
    "events = np.array([[100, 0, 1], [200, 0, 2], [300, 0, 1]])\n",
    "\n",
    "# Event id dictionary (optional, for labeling)\n",
    "event_id = {'Stimulus/Type1': 1, 'Stimulus/Type2': 2}\n",
    "\n",
    "# Create epochs\n",
    "epochs = mne.Epochs(raw_EO, events, event_id=event_id, tmin=-0.1, tmax=0.3, preload=True)\n",
    "\n",
    "epochs.set_montage(subset_montage)\n",
    "\n",
    "epochs.set_eeg_reference(projection=True)  # needed for inverse modeling\n",
    "epochs.apply_proj()"
   ]
  },
  {
   "cell_type": "code",
   "execution_count": 30,
   "metadata": {},
   "outputs": [
    {
     "name": "stdout",
     "output_type": "stream",
     "text": [
      "Source space          : C:\\Users\\jaket\\mne_data\\MNE-fsaverage-data\\fsaverage\\bem\\fsaverage-ico-5-src.fif\n",
      "MRI -> head transform : C:\\Users\\jaket\\AppData\\Roaming\\Python\\Python39\\site-packages\\mne\\data\\fsaverage\\fsaverage-trans.fif\n",
      "Measurement data      : instance of Info\n",
      "Conductor model   : C:\\Users\\jaket\\mne_data\\MNE-fsaverage-data\\fsaverage\\bem\\fsaverage-5120-5120-5120-bem-sol.fif\n",
      "Accurate field computations\n",
      "Do computations in head coordinates\n",
      "Free source orientations\n",
      "\n",
      "Reading C:\\Users\\jaket\\mne_data\\MNE-fsaverage-data\\fsaverage\\bem\\fsaverage-ico-5-src.fif...\n",
      "Read 2 source spaces a total of 20484 active source locations\n",
      "\n",
      "Coordinate transformation: MRI (surface RAS) -> head\n",
      "     0.999994  0.003552  0.000202      -1.76 mm\n",
      "    -0.003558  0.998389  0.056626      31.09 mm\n",
      "    -0.000001 -0.056626  0.998395      39.60 mm\n",
      "     0.000000  0.000000  0.000000       1.00\n",
      "\n",
      "Read  19 EEG channels from info\n",
      "Head coordinate coil definitions created.\n",
      "Source spaces are now in head coordinates.\n",
      "\n",
      "Setting up the BEM model using C:\\Users\\jaket\\mne_data\\MNE-fsaverage-data\\fsaverage\\bem\\fsaverage-5120-5120-5120-bem-sol.fif...\n",
      "\n",
      "Loading surfaces...\n",
      "\n",
      "Loading the solution matrix...\n",
      "\n",
      "Three-layer model surfaces loaded.\n",
      "Loaded linear collocation BEM solution from C:\\Users\\jaket\\mne_data\\MNE-fsaverage-data\\fsaverage\\bem\\fsaverage-5120-5120-5120-bem-sol.fif\n",
      "Employing the head->MRI coordinate transform with the BEM model.\n",
      "BEM model fsaverage-5120-5120-5120-bem-sol.fif is now set up\n",
      "\n",
      "Source spaces are in head coordinates.\n",
      "Checking that the sources are inside the surface and at least    5.0 mm away (will take a few...)\n",
      "Checking surface interior status for 10242 points...\n",
      "    Found  2433/10242 points inside  an interior sphere of radius   47.7 mm\n",
      "    Found     0/10242 points outside an exterior sphere of radius   98.3 mm\n",
      "    Found     0/ 7809 points outside using surface Qhull\n"
     ]
    },
    {
     "name": "stderr",
     "output_type": "stream",
     "text": [
      "[Parallel(n_jobs=1)]: Using backend SequentialBackend with 1 concurrent workers.\n"
     ]
    },
    {
     "name": "stdout",
     "output_type": "stream",
     "text": [
      "    Found     0/ 7809 points outside using solid angles\n",
      "    Total 10242/10242 points inside the surface\n",
      "Interior check completed in 8945.9 ms\n",
      "Checking surface interior status for 10242 points...\n",
      "    Found  2241/10242 points inside  an interior sphere of radius   47.7 mm\n",
      "    Found     0/10242 points outside an exterior sphere of radius   98.3 mm\n",
      "    Found     0/ 8001 points outside using surface Qhull\n"
     ]
    },
    {
     "name": "stderr",
     "output_type": "stream",
     "text": [
      "[Parallel(n_jobs=1)]: Done   1 out of   1 | elapsed:    8.8s remaining:    0.0s\n",
      "[Parallel(n_jobs=1)]: Done   1 out of   1 | elapsed:    8.8s finished\n",
      "[Parallel(n_jobs=1)]: Using backend SequentialBackend with 1 concurrent workers.\n"
     ]
    },
    {
     "name": "stdout",
     "output_type": "stream",
     "text": [
      "    Found     0/ 8001 points outside using solid angles\n",
      "    Total 10242/10242 points inside the surface\n",
      "Interior check completed in 8334.2 ms\n",
      "\n"
     ]
    },
    {
     "name": "stderr",
     "output_type": "stream",
     "text": [
      "[Parallel(n_jobs=1)]: Done   1 out of   1 | elapsed:    8.2s remaining:    0.0s\n",
      "[Parallel(n_jobs=1)]: Done   1 out of   1 | elapsed:    8.2s finished\n"
     ]
    },
    {
     "name": "stdout",
     "output_type": "stream",
     "text": [
      "Setting up for EEG...\n",
      "Computing EEG at 20484 source locations (free orientations)...\n"
     ]
    },
    {
     "name": "stderr",
     "output_type": "stream",
     "text": [
      "[Parallel(n_jobs=1)]: Using backend SequentialBackend with 1 concurrent workers.\n"
     ]
    },
    {
     "name": "stdout",
     "output_type": "stream",
     "text": [
      "\n",
      "Finished.\n",
      "<Forward | MEG channels: 0 | EEG channels: 19 | Source space: Surface with 20484 vertices | Source orientation: Free>\n"
     ]
    },
    {
     "name": "stderr",
     "output_type": "stream",
     "text": [
      "[Parallel(n_jobs=1)]: Done   1 out of   1 | elapsed:   12.7s remaining:    0.0s\n",
      "[Parallel(n_jobs=1)]: Done   1 out of   1 | elapsed:   12.7s finished\n"
     ]
    }
   ],
   "source": [
    "fwd = mne.make_forward_solution(\n",
    "    epochs.info, trans=trans, src=src, bem=bem, eeg=True, mindist=5.0\n",
    ")\n",
    "print(fwd)"
   ]
  },
  {
   "cell_type": "code",
   "execution_count": 32,
   "metadata": {},
   "outputs": [
    {
     "name": "stdout",
     "output_type": "stream",
     "text": [
      "Computing rank from data with rank=None\n",
      "    Using tolerance 6.3e-13 (2.2e-16 eps * 19 dim * 1.5e+02  max singular value)\n",
      "    Estimated rank (eeg): 18\n",
      "    EEG: rank 18 computed from 19 data channels with 1 projector\n",
      "    Created an SSP operator (subspace dimension = 1)\n",
      "    Setting small EEG eigenvalues to zero (without PCA)\n",
      "Reducing data rank from 19 -> 18\n",
      "Estimating covariance using EMPIRICAL\n",
      "Done.\n",
      "Number of samples used : 81\n",
      "[done]\n",
      "Converting forward solution to surface orientation\n",
      "    No patch info available. The standard source space normals will be employed in the rotation to the local surface coordinates....\n",
      "    Converting to surface-based source orientations...\n"
     ]
    },
    {
     "name": "stderr",
     "output_type": "stream",
     "text": [
      "C:\\Users\\jaket\\AppData\\Local\\Temp\\ipykernel_9396\\3849480291.py:4: RuntimeWarning: Too few samples (required : 100 got : 81), covariance estimate may be unreliable\n",
      "  cov = compute_covariance(epochs, tmin=0.2)\n"
     ]
    },
    {
     "name": "stdout",
     "output_type": "stream",
     "text": [
      "    [done]\n",
      "Computing inverse operator with 19 channels.\n",
      "    19 out of 19 channels remain after picking\n",
      "Selected 19 channels\n",
      "Creating the depth weighting matrix...\n",
      "    19 EEG channels\n",
      "    limit = 20485/20484 = 2.259049\n",
      "    scale = 40062.8 exp = 0.8\n",
      "Applying loose dipole orientations to surface source spaces: 0.2\n",
      "Whitening the forward solution.\n",
      "    Created an SSP operator (subspace dimension = 1)\n",
      "Computing rank from covariance with rank=None\n",
      "    Using tolerance 1.2e-14 (2.2e-16 eps * 19 dim * 2.8  max singular value)\n",
      "    Estimated rank (eeg): 18\n",
      "    EEG: rank 18 computed from 19 data channels with 1 projector\n",
      "    Setting small EEG eigenvalues to zero (without PCA)\n",
      "Creating the source covariance matrix\n",
      "Adjusting source covariance matrix.\n",
      "Computing SVD of whitened and weighted lead field matrix.\n",
      "    largest singular value = 2.59981\n",
      "    scaling factor to adjust the trace = 1.68627e+20 (nchan = 19 nzero = 1)\n"
     ]
    }
   ],
   "source": [
    "from mne import compute_covariance\n",
    "\n",
    "# Assuming you have an 'epochs' object\n",
    "cov = compute_covariance(epochs, tmin=0.2)\n",
    "\n",
    "from mne.minimum_norm import make_inverse_operator\n",
    "\n",
    "inverse_operator = make_inverse_operator(epochs.info, fwd, cov, loose=0.2, depth=0.8)"
   ]
  },
  {
   "cell_type": "code",
   "execution_count": 33,
   "metadata": {},
   "outputs": [
    {
     "name": "stdout",
     "output_type": "stream",
     "text": [
      "Preparing the inverse operator for use...\n",
      "    Scaled noise and source covariance from nave = 1 to nave = 3\n",
      "    Created the regularized inverter\n",
      "    Created an SSP operator (subspace dimension = 1)\n",
      "    Created the whitener using a noise covariance matrix with rank 18 (1 small eigenvalues omitted)\n",
      "    Computing noise-normalization factors (dSPM)...\n",
      "[done]\n",
      "Applying inverse operator to \"0.67 × Stimulus/Type1 + 0.33 × Stimulus/Type2\"...\n",
      "    Picked 19 channels from the data\n",
      "    Computing inverse...\n",
      "    Eigenleads need to be weighted ...\n",
      "    Computing residual...\n",
      "    Explained  79.5% variance\n",
      "    Combining the current components...\n",
      "    dSPM...\n",
      "[done]\n",
      "For automatic theme detection, \"darkdetect\" has to be installed! You can install it with `pip install darkdetect`\n",
      "For automatic theme detection, \"darkdetect\" has to be installed! You can install it with `pip install darkdetect`\n",
      "For automatic theme detection, \"darkdetect\" has to be installed! You can install it with `pip install darkdetect`\n",
      "For automatic theme detection, \"darkdetect\" has to be installed! You can install it with `pip install darkdetect`\n"
     ]
    }
   ],
   "source": [
    "import pyvistaqt\n",
    "\n",
    "# Average the epochs to create evoked data\n",
    "evoked = epochs.average()\n",
    "\n",
    "# Apply the inverse operator to the evoked data\n",
    "from mne.minimum_norm import apply_inverse\n",
    "\n",
    "# Regularization parameter\n",
    "lambda2 = 1.0 / 9.0\n",
    "\n",
    "# Method for source estimation, e.g., dSPM, sLORETA\n",
    "method = 'dSPM'\n",
    "\n",
    "stc = apply_inverse(evoked, inverse_operator, lambda2, method=method, pick_ori=None)\n",
    "\n",
    "brain = stc.plot(\n",
    "    hemi='both', subjects_dir=subjects_dir, subject=subject,\n",
    "    initial_time=0, clim=dict(kind='value', lims=[0.3, 0.6, 0.9]))"
   ]
  }
 ],
 "metadata": {
  "kernelspec": {
   "display_name": "base",
   "language": "python",
   "name": "python3"
  },
  "language_info": {
   "codemirror_mode": {
    "name": "ipython",
    "version": 3
   },
   "file_extension": ".py",
   "mimetype": "text/x-python",
   "name": "python",
   "nbconvert_exporter": "python",
   "pygments_lexer": "ipython3",
   "version": "3.9.18"
  }
 },
 "nbformat": 4,
 "nbformat_minor": 2
}
